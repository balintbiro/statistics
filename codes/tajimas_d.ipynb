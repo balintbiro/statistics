{
 "cells": [
  {
   "cell_type": "code",
   "execution_count": 1,
   "id": "b04ee660",
   "metadata": {},
   "outputs": [],
   "source": [
    "#importing the required modules\n",
    "import numpy as np\n",
    "import pandas as pd\n",
    "from itertools import combinations, permutations"
   ]
  },
  {
   "cell_type": "code",
   "execution_count": 2,
   "id": "0f1ae31a",
   "metadata": {},
   "outputs": [],
   "source": [
    "#sample sequences\n",
    "seq0=list('ATAATAAAAAAATAATAAAAAAATAAAAAAAATAAAAAAAA')\n",
    "seq1=list('AAAAAAAATAAATAATAAAAAAATAAAAAAAAAAAAAAAAA')\n",
    "seq2=list('AAAATAAAAATATAATAAAAAAATATAAAAAAAAAAAAAAA')\n",
    "seq3=list('AAAAAAAAAAAATAATAAAAAAATAAATAAATAAAAAAAAA')\n",
    "seq4=list('AAAATAAAAAAAATATAAAAAAATAAAAAAAAAAAAAAAAA')\n",
    "seq5=list('AAAATAAAAAAAAAATAAAAAAAAAAAAAAAAAAATAAAAA')\n",
    "seq6=list('AAAAAATAAAAATAATAAAAAAATAAAAAAAAAAAAAAAAA')\n",
    "seq7=list('AAAAAAAAAAAAAAATAAAAAAATAAAAAAAAAAAAAAATA')\n",
    "seq8=list('AAAAAAAAAAAAAAAAAAAAAAATAAAAAAAAAAAAAAAAA')\n",
    "seq9=list('AAAAAAAAAAAAAAATAAAAAAATAATAAAAAAAAAAAAAA')"
   ]
  },
  {
   "cell_type": "code",
   "execution_count": 3,
   "id": "8db03be9",
   "metadata": {},
   "outputs": [],
   "source": [
    "#create pandas dataframe from sequences\n",
    "sequences=[seq0,seq1,seq2,seq3,seq4,seq5,seq6,seq7,seq8,seq9]\n",
    "sequences_df=pd.DataFrame(sequences)"
   ]
  },
  {
   "cell_type": "code",
   "execution_count": 4,
   "id": "c2b1cc72",
   "metadata": {},
   "outputs": [],
   "source": [
    "def tajimas_d(df):\n",
    "    indices=sequences_df.index.values\n",
    "    n=len(indices)\n",
    "    combos=pd.Series(combinations(indices,2))\n",
    "    subdfs=combos.apply(lambda combo: pd.DataFrame([sequences_df.iloc[combo[0]].tolist(),\n",
    "                                        sequences_df.iloc[combo[1]].tolist()]))\n",
    "    pairwise_differencies=[]\n",
    "    for subdf in subdfs:\n",
    "        pairwise_differency=[]\n",
    "        sub_indices=pd.Series(subdf.columns.values)\n",
    "        sub_indices.apply(lambda index: pairwise_differency.append(1) if len(subdf[index].unique())!=1 else\n",
    "                     pairwise_differency.append(0))\n",
    "        pairwise_differencies.append(sum(pairwise_differency))\n",
    "    differ_sites=[]\n",
    "    sequences_df.apply(lambda column: differ_sites.append(1) if len(column.unique()) >1\n",
    "                      else differ_sites.append(0))\n",
    "    s=sum(differ_sites)\n",
    "    pi=np.mean(pairwise_differencies)\n",
    "    a1=sum(pd.Series(indices[1:]).apply(lambda index:1/index))\n",
    "    a2=sum(pd.Series(indices[1:]).apply(lambda index:1/index**2))\n",
    "    b1=(n+1)/(3*(n-1))\n",
    "    b2=(2*(n**2+n+3))/((9*n)*(n-1))\n",
    "    c1=b1-(1/a1)\n",
    "    c2=b2-((n+2)/(a1*n))+(a2/a1**2)\n",
    "    e1=c1/a1\n",
    "    e2=c2/(a1**2+a2)\n",
    "    d=(pi-(s/a1))/np.sqrt(e1*s+e2*s*(s-1))\n",
    "    return d"
   ]
  },
  {
   "cell_type": "code",
   "execution_count": 5,
   "id": "9a7eb13a",
   "metadata": {},
   "outputs": [
    {
     "data": {
      "text/plain": [
       "-1.446172076557919"
      ]
     },
     "execution_count": 5,
     "metadata": {},
     "output_type": "execute_result"
    }
   ],
   "source": [
    "tajimas_d(sequences_df)"
   ]
  },
  {
   "cell_type": "code",
   "execution_count": null,
   "id": "51746ace",
   "metadata": {},
   "outputs": [],
   "source": []
  }
 ],
 "metadata": {
  "kernelspec": {
   "display_name": "Python 3",
   "language": "python",
   "name": "python3"
  },
  "language_info": {
   "codemirror_mode": {
    "name": "ipython",
    "version": 3
   },
   "file_extension": ".py",
   "mimetype": "text/x-python",
   "name": "python",
   "nbconvert_exporter": "python",
   "pygments_lexer": "ipython3",
   "version": "3.7.1"
  }
 },
 "nbformat": 4,
 "nbformat_minor": 5
}
