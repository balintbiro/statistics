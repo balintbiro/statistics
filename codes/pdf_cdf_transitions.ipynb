{
 "cells": [
  {
   "cell_type": "code",
   "execution_count": 20,
   "id": "3806d501",
   "metadata": {},
   "outputs": [],
   "source": [
    "#import the required modules\n",
    "import numpy as np\n",
    "import pandas as pd\n",
    "from scipy import integrate\n",
    "import matplotlib.pyplot as plt"
   ]
  },
  {
   "cell_type": "code",
   "execution_count": 7,
   "id": "d7d551f7",
   "metadata": {},
   "outputs": [],
   "source": [
    "#define a function for normal distribution\n",
    "def normal_dist(element, mean, sd):\n",
    "    prob_density=(np.pi*sd)*np.exp(-0.5*((element-mean)/sd)**2)\n",
    "    return prob_density"
   ]
  },
  {
   "cell_type": "code",
   "execution_count": 8,
   "id": "dd6a9716",
   "metadata": {},
   "outputs": [],
   "source": [
    "#get x values with the previously defined function\n",
    "x=pd.Series(np.linspace(1,50,2000))"
   ]
  },
  {
   "cell_type": "code",
   "execution_count": 13,
   "id": "3529dea1",
   "metadata": {},
   "outputs": [],
   "source": [
    "#calculating descriptive statistics\n",
    "mean=np.mean(x)\n",
    "sd=np.std(x)"
   ]
  },
  {
   "cell_type": "code",
   "execution_count": 14,
   "id": "2f89f57c",
   "metadata": {},
   "outputs": [],
   "source": [
    "#probability density function\n",
    "pdf=x.apply(normal_dist,args=(mean,sd,))"
   ]
  },
  {
   "cell_type": "code",
   "execution_count": 36,
   "id": "884b2f9a",
   "metadata": {},
   "outputs": [],
   "source": [
    "#cumulative distribution function as the pdf integral\n",
    "cdf=integrate.cumulative_trapezoid(pdf)"
   ]
  },
  {
   "cell_type": "code",
   "execution_count": 50,
   "id": "8cd86781",
   "metadata": {},
   "outputs": [],
   "source": [
    "#pdf as cdf derivative\n",
    "cdf_derivative=np.gradient(cdf,x[:-1])"
   ]
  },
  {
   "cell_type": "code",
   "execution_count": 55,
   "id": "e0a3b488",
   "metadata": {},
   "outputs": [],
   "source": [
    "plt.style.use('seaborn')\n",
    "fig,axs=plt.subplots(1,3, figsize=(9,3))\n",
    "axs[0].plot(x,pdf)\n",
    "axs[0].set_title('PDF')\n",
    "axs[1].plot(x[:-1],cdf)\n",
    "axs[1].set_title('CDF=PDF integral')\n",
    "axs[2].plot(x[:-1],cdf_derivative)\n",
    "axs[2].set_title('PDF=CDF derivative')\n",
    "plt.savefig('../results/pdf_cdf_transitions.png')\n",
    "plt.close()"
   ]
  },
  {
   "cell_type": "code",
   "execution_count": null,
   "id": "f0831b29",
   "metadata": {},
   "outputs": [],
   "source": []
  }
 ],
 "metadata": {
  "kernelspec": {
   "display_name": "Python 3",
   "language": "python",
   "name": "python3"
  },
  "language_info": {
   "codemirror_mode": {
    "name": "ipython",
    "version": 3
   },
   "file_extension": ".py",
   "mimetype": "text/x-python",
   "name": "python",
   "nbconvert_exporter": "python",
   "pygments_lexer": "ipython3",
   "version": "3.7.1"
  }
 },
 "nbformat": 4,
 "nbformat_minor": 5
}
